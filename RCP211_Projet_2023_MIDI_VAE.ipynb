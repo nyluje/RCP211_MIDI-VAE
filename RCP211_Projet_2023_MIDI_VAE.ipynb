{
  "cells": [
    {
      "cell_type": "markdown",
      "metadata": {
        "id": "view-in-github",
        "colab_type": "text"
      },
      "source": [
        "<a href=\"https://colab.research.google.com/github/nyluje/RCP211_MIDI-VAE/blob/main/RCP211_Projet_2023_MIDI_VAE.ipynb\" target=\"_parent\"><img src=\"https://colab.research.google.com/assets/colab-badge.svg\" alt=\"Open In Colab\"/></a>"
      ]
    },
    {
      "cell_type": "markdown",
      "metadata": {
        "id": "vLRKP2mcYvrG"
      },
      "source": [
        "# Projet RCP211: MIDI-VAE"
      ]
    },
    {
      "cell_type": "markdown",
      "metadata": {
        "id": "XvNien8_5mP-"
      },
      "source": [
        "## Import des librairies utilisées\n",
        "\n",
        "Au moment de la réalisation du projet, l'environnement par défaut, du service Google Colab, utilisait les versions suivantes des librairies:\n",
        "\n",
        "\n",
        "* `python version 3.10.12 (main, Jun  7 2023, 12:45:35) [GCC 9.4.0]`\n",
        "* `numpy version 1.22.4`\n",
        "* `torch version 2.0.1+cu118`\n",
        "* `torchmetrics version 0.11.4`\n",
        "* `tqdm version 4.65.0`\n",
        "* `matplotlib version 3.7.1`\n",
        "* `gdown version 4.6.6`\n",
        "* `pretty-midi version 0.2.10`"
      ]
    },
    {
      "cell_type": "code",
      "execution_count": 1,
      "metadata": {
        "colab": {
          "base_uri": "https://localhost:8080/"
        },
        "id": "33DnPBN9edGS",
        "outputId": "663a2604-cc56-4a87-8473-5a76364543a4",
        "cellView": "form"
      },
      "outputs": [
        {
          "output_type": "stream",
          "name": "stdout",
          "text": [
            "fluidsynth is already the newest version (2.1.1-2).\n",
            "0 upgraded, 0 newly installed, 0 to remove and 13 not upgraded.\n"
          ]
        }
      ],
      "source": [
        "#@title ###Import des packages non installés par défaut sur l'environnement\n",
        "\n",
        "!sudo apt install -y -qq fluidsynth\n",
        "!pip install --quiet --upgrade pyfluidsynth\n",
        "!pip install --quiet pretty_midi\n",
        "!pip install --quiet torchmetrics"
      ]
    },
    {
      "cell_type": "code",
      "execution_count": 2,
      "metadata": {
        "colab": {
          "base_uri": "https://localhost:8080/"
        },
        "id": "xt1oULVfBK4f",
        "outputId": "8c98f1be-9a49-4a63-9b96-56b8dcc0dc5c",
        "cellView": "form"
      },
      "outputs": [
        {
          "output_type": "stream",
          "name": "stdout",
          "text": [
            "python version 3.10.12 (main, Jun  7 2023, 12:45:35) [GCC 9.4.0]\n",
            "numpy version 1.22.4\n",
            "torch version 2.0.1+cu118\n",
            "torchmetrics version 0.11.4\n",
            "tqdm version 4.65.0\n",
            "matplotlib version 3.7.1\n",
            "gdown version 4.6.6\n",
            "pretty-midi version 0.2.10\n"
          ]
        }
      ],
      "source": [
        "#@title ###Import des librairies utilisées\n",
        "\n",
        "import sys\n",
        "import os\n",
        "import re\n",
        "from IPython import display\n",
        "\n",
        "import numpy as np\n",
        "\n",
        "import torch\n",
        "from torch import nn\n",
        "import torch.nn.functional as F\n",
        "from torch.utils.data import Dataset, DataLoader, random_split\n",
        "\n",
        "import torchmetrics\n",
        "from torchmetrics.classification import BinaryAccuracy\n",
        "from torchmetrics.classification import MulticlassAccuracy\n",
        "\n",
        "from tqdm.notebook import trange, tqdm\n",
        "\n",
        "import matplotlib\n",
        "import matplotlib.pyplot as plt\n",
        "from matplotlib.ticker import MaxNLocator\n",
        "\n",
        "\n",
        "#print(f'IPython version {IPython}')\n",
        "\n",
        "import gdown\n",
        "import pretty_midi\n",
        "import fluidsynth\n",
        "\n",
        "print(f'python version {sys.version}')\n",
        "print(f'numpy version {np.__version__}')\n",
        "print(f'torch version {torch.__version__}')\n",
        "print(f'torchmetrics version {torchmetrics.__version__}')\n",
        "print(f'tqdm version {sys.modules.__getitem__(\"tqdm\").version.__version__}')\n",
        "print(f'matplotlib version {matplotlib.__version__}')\n",
        "print(f'gdown version {gdown.__version__}')\n",
        "print(f'pretty-midi version {pretty_midi.__version__}')\n"
      ]
    },
    {
      "cell_type": "markdown",
      "source": [
        "## Import du dataset et outils du projet de référence\n",
        "\n",
        "Le jeu de données est importée à partir du [lien partagé sur  projet git](https://github.com/brunnergino/MIDI-VAE) par Brunner et al. (2019).\n",
        "\n",
        "Les données sont nettoyées :\n",
        "- Les données renvoyant des erreurs avec la fonction `load_rolls()` de Brunner et al. (2019) sont supprimées;\n",
        "- Et les données, dont le tenseur produit par `load_rolls()` est inférieur à une longueur minimum de 40, sont supprimées.\n",
        "\n",
        "Ajout de nouveau chemin python, pour utiliser les outils du projet de référence :\n",
        "- Afin d'utiliser les classes python importées du projet de Brunner et al. (2019), leur chemin est ajouté dans la variable d'environnement.\n",
        "- La fonction `load_rolls()` réduit, un fichier MIDI, aux caractéristiques minimums pour l'entraînement du modèle MIDI-VAE. Celle-ci est importée pour être utilisée par la suite.\n",
        "\n",
        "Un model pré-entrainé `checkpoint.pt`, réalisé à la conception de ce projet, est également importé, pour ne pas démarrer l'entrainement du modèle de zéro."
      ],
      "metadata": {
        "id": "vLPK7WNJsOKM"
      }
    },
    {
      "cell_type": "code",
      "execution_count": 3,
      "metadata": {
        "colab": {
          "base_uri": "https://localhost:8080/"
        },
        "id": "8ort3qbKXVxz",
        "outputId": "fd59afc3-b1a3-435e-8127-2e8585579d07",
        "cellView": "form"
      },
      "outputs": [
        {
          "output_type": "stream",
          "name": "stdout",
          "text": [
            "/content\n"
          ]
        },
        {
          "output_type": "stream",
          "name": "stderr",
          "text": [
            "Downloading...\n",
            "From: https://drive.google.com/u/0/uc?id=1OpHNPENwLn1LIQiUb1BmyYYcz1xA41b-&export=download\n",
            "To: /content/dataset.zip\n",
            "100%|██████████| 32.4M/32.4M [00:00<00:00, 112MB/s] \n"
          ]
        }
      ],
      "source": [
        "#@title ###Import et nettoyage du dataset\n",
        "\n",
        "%cd /content\n",
        "!rm -r ./sample_data/MIDI-VAE_PaperData\n",
        "url = 'https://drive.google.com/u/0/uc?id=1OpHNPENwLn1LIQiUb1BmyYYcz1xA41b-&export=download'\n",
        "output = 'dataset.zip'\n",
        "gdown.download(url, output, quiet=False)\n",
        "!unzip -q {output} -d ./sample_data\n",
        "!rm -r ./sample_data/__MACOSX\n",
        "!rm -r ./dataset.zip\n",
        "\n",
        "#suppresion de chanson renvoyant une erreur avec la fonction load_rolls\n",
        "!rm \"/content/sample_data/MIDI-VAE_PaperData/Pop/Dan_Fogelberg_-_Leader_of_the_Band.mid\"\n",
        "!rm \"/content/sample_data/MIDI-VAE_PaperData/Pop/David_Bowie_-_Lazarus.mid\"\n",
        "!rm \"/content/sample_data/MIDI-VAE_PaperData/Pop/Billy_Joel_-_Movin'_Out.mid\"\n",
        "!rm \"/content/sample_data/MIDI-VAE_PaperData/Pop/Billy_Joel_-_Pressure.mid\"\n",
        "!rm \"/content/sample_data/MIDI-VAE_PaperData/Pop/Brian_McKnight_-_On_The_Down_Low.mid\"\n",
        "!rm \"/content/sample_data/MIDI-VAE_PaperData/Pop/Celine_Dion_-_That's_the_Way_It_Is.mid\"\n",
        "!rm \"/content/sample_data/MIDI-VAE_PaperData/Pop/Jackson_5_-_Dancing_Machine.mid\"\n",
        "!rm \"/content/sample_data/MIDI-VAE_PaperData/Pop/Jackson_5_-_I'll_Be_There.mid\"\n",
        "!rm \"/content/sample_data/MIDI-VAE_PaperData/Pop/Jackson_5_-_I_Want_You_Back.mid\"\n",
        "!rm \"/content/sample_data/MIDI-VAE_PaperData/Pop/Jackson_5_-_Never_Can_Say_Goodbye.mid\"\n",
        "!rm \"/content/sample_data/MIDI-VAE_PaperData/Pop/Lenny_Kravitz_-_I_Belong_to_You.mid\"\n",
        "!rm \"/content/sample_data/MIDI-VAE_PaperData/Pop/Marc_Anthony_-_Vivir_lo_Nuestro.mid\"\n",
        "!rm \"/content/sample_data/MIDI-VAE_PaperData/Pop/Third_Eye_Blind_-_Semi_Charmed_Life.mid\"\n",
        "!rm \"/content/sample_data/MIDI-VAE_PaperData/Jazz/a_taste_of_honey_jc2.mid\"\n",
        "!rm \"/content/sample_data/MIDI-VAE_PaperData/Jazz/maiden_voyage-HHancock_bg.mid\"\n",
        "!rm \"/content/sample_data/MIDI-VAE_PaperData/Jazz/on_the_sunny_side_of_the_street_rw.mid\"\n",
        "\n",
        "#supression pour longueur minimum de 40 du tenseur produit par la fonction loadroll\n",
        "!rm \"/content/sample_data/MIDI-VAE_PaperData/Pop/B'Witched_-_Blame_It_On_The_Weatherman.mid\"\n",
        "!rm \"/content/sample_data/MIDI-VAE_PaperData/Pop/Backstreet_Boys_-_I_Need_You_Tonight.mid\"\n",
        "!rm \"/content/sample_data/MIDI-VAE_PaperData/Pop/Bill_Withers_-_Aint_No_Sunshine.mid\"\n",
        "!rm \"/content/sample_data/MIDI-VAE_PaperData/Pop/Blessed_Union_Of_Souls_-_I_Believe.mid\"\n",
        "!rm \"/content/sample_data/MIDI-VAE_PaperData/Pop/Boyzone_-_Going_Gets_Tough.mid\"\n",
        "!rm \"/content/sample_data/MIDI-VAE_PaperData/Pop/Boyzone_-_I_Love_The_Way_You_Love_Me.mid\"\n",
        "!rm \"/content/sample_data/MIDI-VAE_PaperData/Pop/Britney_Spears_-_Britney_Spears_Medley.mid\"\n",
        "!rm \"/content/sample_data/MIDI-VAE_PaperData/Pop/Carly_Simon_-_Nobody_Does_it_Better.mid\"\n",
        "!rm \"/content/sample_data/MIDI-VAE_PaperData/Pop/Enya_-_Bard_Dance.mid\"\n",
        "!rm \"/content/sample_data/MIDI-VAE_PaperData/Pop/Geri_Halliwell_-_Look_At_Me.mid\"\n",
        "!rm \"/content/sample_data/MIDI-VAE_PaperData/Pop/Godspell_-_Day_by_Day.mid\"\n",
        "!rm \"/content/sample_data/MIDI-VAE_PaperData/Pop/James_Taylor_-_Handyman.mid\"\n",
        "!rm \"/content/sample_data/MIDI-VAE_PaperData/Pop/Lionel_Richie_-_Three_Times_A_Lady.mid\"\n",
        "!rm \"/content/sample_data/MIDI-VAE_PaperData/Pop/Lionel_Richie_-_Truly.mid\"\n",
        "!rm \"/content/sample_data/MIDI-VAE_PaperData/Pop/Mandy_Moore_-_Candy.mid\"\n",
        "!rm \"/content/sample_data/MIDI-VAE_PaperData/Pop/N_Sync_-_Everything_I_Own.mid\"\n",
        "!rm \"/content/sample_data/MIDI-VAE_PaperData/Pop/Neil_Diamond_-_September_Morning.mid\"\n",
        "!rm \"/content/sample_data/MIDI-VAE_PaperData/Pop/Olivia_Newton-John_-_Summer_Nights.mid\"\n",
        "!rm \"/content/sample_data/MIDI-VAE_PaperData/Pop/Paul_McCartney_-_Live_and_Let_Die.mid\"\n",
        "!rm \"/content/sample_data/MIDI-VAE_PaperData/Pop/Robyn_-_Show_Me_Love.mid\"\n",
        "!rm \"/content/sample_data/MIDI-VAE_PaperData/Pop/Seals_and_Crofts_-_Ill_Play_For_You.mid\"\n",
        "!rm \"/content/sample_data/MIDI-VAE_PaperData/Pop/Simon_and_Garfunkel_-_I_Am_A_Rock.mid\"\n",
        "!rm \"/content/sample_data/MIDI-VAE_PaperData/Pop/TLC_-_Dear_Lie.mid\"\n",
        "!rm \"/content/sample_data/MIDI-VAE_PaperData/Pop/The_Carpenters_-_Hurting_Each_Other.mid\"\n",
        "!rm \"/content/sample_data/MIDI-VAE_PaperData/Pop/The_Commodores_-_Three_Times_A_Lady.mid\"\n",
        "!rm \"/content/sample_data/MIDI-VAE_PaperData/Pop/The_Corrs_-_Along_With_the_Girls.mid\"\n",
        "!rm \"/content/sample_data/MIDI-VAE_PaperData/Pop/The_Cowsills_-_Hair.mid\"\n",
        "!rm \"/content/sample_data/MIDI-VAE_PaperData/Pop/The_Toys_-_A_Lover's_Concerto.mid\"\n",
        "!rm \"/content/sample_data/MIDI-VAE_PaperData/Pop/Tori_Amos_-_Josephine.mid\"\n",
        "!rm \"/content/sample_data/MIDI-VAE_PaperData/Pop/Vangelis_-_Prelude.mid\"\n",
        "!rm \"/content/sample_data/MIDI-VAE_PaperData/Pop/wonderland_by_night_dc.mid\"\n",
        "!rm \"/content/sample_data/MIDI-VAE_PaperData/Pop/you_will_be_my_music-frank-sinatra-kar_bpj.mid\"\n",
        "!rm \"/content/sample_data/MIDI-VAE_PaperData/Jazz/aint_misbehavin_rj.mid\"\n",
        "!rm \"/content/sample_data/MIDI-VAE_PaperData/Jazz/come_rain_or_come_shine-woody_gw.mid\"\n",
        "!rm \"/content/sample_data/MIDI-VAE_PaperData/Jazz/forgotten_dreams_gp.mid\"\n",
        "!rm \"/content/sample_data/MIDI-VAE_PaperData/Jazz/gentle_rain_luiz_bonfa_mw.mid\"\n",
        "!rm \"/content/sample_data/MIDI-VAE_PaperData/Jazz/i_gotta_right_to_sing_the_blues_hh.mid\"\n",
        "!rm \"/content/sample_data/MIDI-VAE_PaperData/Jazz/in_the_still_of_the_night-cp_dr.mid\"\n",
        "!rm \"/content/sample_data/MIDI-VAE_PaperData/Jazz/invitation_dwb.mid\"\n",
        "!rm \"/content/sample_data/MIDI-VAE_PaperData/Jazz/rum_n_coca_cola-andrews-sisters1945_ab.mid\"\n",
        "!rm \"/content/sample_data/MIDI-VAE_PaperData/Jazz/two_sleepy_people_eh3.mid\"\n",
        "\n",
        "\n",
        "\n",
        "\n"
      ]
    },
    {
      "cell_type": "code",
      "source": [
        "#@title ###Import du projet de référence\n",
        "\n",
        "!rm -r ./MIDI-VAE\n",
        "!git clone https://github.com/brunnergino/MIDI-VAE\n",
        "!rm -r ./pickles\n",
        "!sed -i 's/data\\/original\\//sample_data\\/MIDI-VAE_PaperData\\//g' ./MIDI-VAE/settings.py\n",
        "!sed -i \"s/'style1',\\ 'style2'/'Jazz',\\ 'Pop'/g\" ./MIDI-VAE/settings.py\n",
        "\n",
        "for i in ['/content/MIDI-VAE']:\n",
        "  directory_path = os.path.abspath(os.path.join(i))\n",
        "  if directory_path not in sys.path:\n",
        "      sys.path.append(directory_path)\n",
        "from import_midi import load_rolls as load_rolls"
      ],
      "metadata": {
        "colab": {
          "base_uri": "https://localhost:8080/"
        },
        "cellView": "form",
        "id": "9-D82uFyJEvE",
        "outputId": "f99d867f-9da0-4680-a2ca-34163fc52899"
      },
      "execution_count": 4,
      "outputs": [
        {
          "output_type": "stream",
          "name": "stdout",
          "text": [
            "Cloning into 'MIDI-VAE'...\n",
            "remote: Enumerating objects: 66, done.\u001b[K\n",
            "remote: Counting objects: 100% (65/65), done.\u001b[K\n",
            "remote: Compressing objects: 100% (42/42), done.\u001b[K\n",
            "remote: Total 66 (delta 22), reused 59 (delta 20), pack-reused 1\u001b[K\n",
            "Unpacking objects: 100% (66/66), 121.10 MiB | 8.54 MiB/s, done.\n",
            "Updating files: 100% (40/40), done.\n"
          ]
        },
        {
          "output_type": "stream",
          "name": "stderr",
          "text": [
            "/content/MIDI-VAE/midi_functions.py:109: SyntaxWarning: \"is not\" with a literal. Did you mean \"!=\"?\n",
            "  hold_this_note = note in notes and (i)% SMALLEST_NOTE is not 0\n"
          ]
        }
      ]
    },
    {
      "cell_type": "code",
      "source": [
        "#@title ###Import du point de sauvegarde\n",
        "!git clone https://github.com/nyluje/RCP211_MIDI-VAE\n",
        "!cp -r ./RCP211_MIDI-VAE/checkpoint.pt ./\n",
        "!rm -r ./RCP211_MIDI-VAE"
      ],
      "metadata": {
        "colab": {
          "base_uri": "https://localhost:8080/"
        },
        "cellView": "form",
        "id": "_vBvTtfJMQle",
        "outputId": "19fb25d8-3dea-42df-ab95-a60635f5f598"
      },
      "execution_count": 5,
      "outputs": [
        {
          "output_type": "stream",
          "name": "stdout",
          "text": [
            "Cloning into 'RCP211_MIDI-VAE'...\n",
            "remote: Enumerating objects: 16, done.\u001b[K\n",
            "remote: Counting objects: 100% (16/16), done.\u001b[K\n",
            "remote: Compressing objects: 100% (15/15), done.\u001b[K\n",
            "remote: Total 16 (delta 1), reused 0 (delta 0), pack-reused 0\u001b[K\n",
            "Unpacking objects: 100% (16/16), 13.32 MiB | 7.04 MiB/s, done.\n"
          ]
        }
      ]
    },
    {
      "cell_type": "markdown",
      "metadata": {
        "id": "0vTuaZnIesnb"
      },
      "source": [
        "## Paramètrage du device\n",
        "Si un processeur carte graphique est disponible, il est paramétrés dans la variable device."
      ]
    },
    {
      "cell_type": "code",
      "execution_count": 6,
      "metadata": {
        "colab": {
          "base_uri": "https://localhost:8080/"
        },
        "id": "BQ36ll7ZcntN",
        "outputId": "3d32c1b8-a243-48cf-90d0-d94d47361b56"
      },
      "outputs": [
        {
          "output_type": "stream",
          "name": "stdout",
          "text": [
            "Device is  cuda\n"
          ]
        }
      ],
      "source": [
        "device = torch.device(\"cuda\" if torch.cuda.is_available() else \"cpu\")\n",
        "print(\"Device is \",device)"
      ]
    },
    {
      "cell_type": "markdown",
      "source": [
        "## Préparation du jeu de données"
      ],
      "metadata": {
        "id": "BOP4IyLLKCFy"
      }
    },
    {
      "cell_type": "markdown",
      "source": [
        "### Nombe de classes\n",
        "\n",
        "Le nombre de classes gérables par le modèle est mis en paramètre. Pour être utilisable, les noms de ces paramètres doivent être cohérents avec la strucuration du jeu de données. Les noms utilisés reflètent les dénominations des répertoires de classement des données, représentées par chacune des classes. Dans le projet seules deux classes sont utilisées: \"Pop\" et \"Jazz\".\n",
        "\n",
        "`LABELS_CLASSES` est en correspondance avec le jeu de données importées, divisé entre deux classes.\n"
      ],
      "metadata": {
        "id": "4ZX2cHvTbaVc"
      }
    },
    {
      "cell_type": "code",
      "source": [
        "#@title ####Formulaire de configuration:\n",
        "LABELS_CLASSES=[\"Pop\",\"Jazz\"] #@param"
      ],
      "metadata": {
        "cellView": "form",
        "id": "xkfCokFSca0y"
      },
      "execution_count": 7,
      "outputs": []
    },
    {
      "cell_type": "markdown",
      "metadata": {
        "id": "qs965cbXfaA0"
      },
      "source": [
        "### Fonction de transformation\n",
        "La classe `MidiTransform` est utilisée pour formater les données en des tenseurs aplatis en une seule dimension, consommables par le modèle:\n",
        "- Le paramètre `SONG_MAX_LENGTH` correspond à la longueur conservée de la chanson. Pour limiter la taille du modèle en dessous de 25Mo (le maximum déposable sur le service GitHub, utilisé pour jouer le rôle de stockage de point de sauvegarde -Cf. la partie dédié au modèle), la longueur est limitée à 10 ;\n",
        "- `PITCH_EXPECTED_SHAPE` et `INSTR_EXPECTED_SHAPE` utilisent des dimensions (`[64,61]` et `[4,16]`) pour cadrer aux prérequis de la fonction `load_rolls()` de Brunner et al. (2019)."
      ]
    },
    {
      "cell_type": "code",
      "source": [
        "#@title ####Formulaire de configuration:\n",
        "SONG_MAX_LENGTH = 10 #@param\n",
        "PITCH_EXPECTED_SHAPE = [64,61] #@param\n",
        "INST_EXPECTED_SHAPE= [4,16] #@param\n"
      ],
      "metadata": {
        "id": "Aucod_gjn6_M",
        "cellView": "form"
      },
      "execution_count": 8,
      "outputs": []
    },
    {
      "cell_type": "code",
      "execution_count": 9,
      "metadata": {
        "id": "F62eqanBHZ4w",
        "cellView": "form"
      },
      "outputs": [],
      "source": [
        "#@title #### Classe MidiTransform\n",
        "\n",
        "class MidiTransform():\n",
        "  def __init__(self,song_max_length=SONG_MAX_LENGTH,\n",
        "               p_expected_shape=PITCH_EXPECTED_SHAPE,\n",
        "               inst_expected_shape=INST_EXPECTED_SHAPE):\n",
        "    self.song_max_length=song_max_length\n",
        "    self.p_expected_shape=p_expected_shape\n",
        "    self.inst_expected_shape=inst_expected_shape\n",
        "\n",
        "  def __call__(self, X, Y, Inst, Tempo, V, D):\n",
        "    assert(np.array_equal(X,Y))\n",
        "    assert(len(X[0])==len(V[0]))\n",
        "    assert(X.shape[1]==self.p_expected_shape[0] and X.shape[2]==self.p_expected_shape[1])\n",
        "    assert(V.shape[1]==self.p_expected_shape[0])\n",
        "    assert(Inst.shape[0]==self.inst_expected_shape[0] and Inst.shape[1]==self.inst_expected_shape[1])\n",
        "\n",
        "\n",
        "    P=np.reshape(X[:self.song_max_length], (self.song_max_length*self.p_expected_shape[0]*self.p_expected_shape[1]))\n",
        "    Inst= np.reshape(Inst, (self.inst_expected_shape[0]*self.inst_expected_shape[1]))\n",
        "    V=np.reshape(V[:self.song_max_length], (self.song_max_length*self.p_expected_shape[0]))\n",
        "\n",
        "    return P, Inst, V"
      ]
    },
    {
      "cell_type": "markdown",
      "metadata": {
        "id": "hepv_7hpf0sB"
      },
      "source": [
        "### Jeu de donnée\n",
        "Une classe `MidiDataset`, héritant de la classe `Dataset` de la librairie pytorch, est créée. Elle permet de convertir les fichiers MIDI en données d'entraînement et de validation pour le modèle.\n",
        "La redéfinition de la fonction `__getitem__()` utilise la fonction `load_rolls()`, évoquée plus haut, et la classe `MidiTransform` pour retourner les trois jeux de données utilisés pour entraîner le modèle :\n",
        "- *Pitch roll* ;\n",
        "- *Instrument roll* ;\n",
        "- Et *Velocity roll*."
      ]
    },
    {
      "cell_type": "code",
      "execution_count": 10,
      "metadata": {
        "id": "9omikNk_A22v",
        "cellView": "form"
      },
      "outputs": [],
      "source": [
        "#@title #### Class MidiDataset\n",
        "\n",
        "class MidiDataset(Dataset):\n",
        "    \"\"\" Midi files Dataset \"\"\"\n",
        "\n",
        "    def __init__(self, file_dir=\"/content/sample_data/MIDI-VAE_PaperData/\", labels=[0,1],transforms=MidiTransform()):\n",
        "        \"\"\"\n",
        "        Args:\n",
        "            file_dir (string): répertoire avec les fichiers par sous répetoire selon classe.\n",
        "            labels (array(string)): classe de musique.\n",
        "            transforms (optional): Changes on the data.\n",
        "        \"\"\"\n",
        "        self.file_dir = file_dir\n",
        "        self.transforms = transforms\n",
        "\n",
        "        self.midi_filenames=np.array([], dtype=str)\n",
        "        self.labels=np.array([], dtype=np.int16)\n",
        "        for label_id in labels:\n",
        "          midis_to_add = os.listdir(os.path.join(file_dir, LABELS_CLASSES[label_id]))\n",
        "          midis_to_add.sort()\n",
        "          filenames_to_add = np.array([midi for midi in midis_to_add])\n",
        "          labels_to_add = np.full(filenames_to_add.shape[0],label_id,dtype=np.int16)\n",
        "          self.midi_filenames=  np.append(self.midi_filenames,filenames_to_add)\n",
        "          self.labels = np.append(self.labels,labels_to_add)\n",
        "\n",
        "    def __len__(self):\n",
        "        assert(len(self.midi_filenames)==len(self.labels))\n",
        "        return len(self.midi_filenames)\n",
        "\n",
        "    def __getitem__(self, idx):\n",
        "        midi_filename = self.midi_filenames[idx]\n",
        "        midi_label = self.labels[idx]\n",
        "        X, Y, Inst, Tempo, V, D=load_rolls(self.file_dir+\"/\"+LABELS_CLASSES[midi_label]+\"/\",midi_filename)\n",
        "        if self.transforms:\n",
        "          P, Inst, V= self.transforms(X, Y, Inst, Tempo, V, D)\n",
        "        return P, Inst, V, midi_label, midi_filename"
      ]
    },
    {
      "cell_type": "markdown",
      "metadata": {
        "id": "Ksg8IZRpgOJv"
      },
      "source": [
        "### Séparation en deux jeux de données et préparation du dataloader\n",
        "Le dataset est séparé entre un jeu de données d'entraînement et un jeu de données de validation.\n",
        "\n",
        "La classe Dataloader de pytorch est ensuite utilisée pour grouper les données en batchs, utilisables pour l'entraînement du modèle."
      ]
    },
    {
      "cell_type": "code",
      "execution_count": 11,
      "metadata": {
        "id": "3n1QPwu_eDvj"
      },
      "outputs": [],
      "source": [
        "generator1 = torch.Generator().manual_seed(78)\n",
        "train_set, val_set = torch.utils.data.random_split(MidiDataset(), [0.9, 0.1],generator1)\n"
      ]
    },
    {
      "cell_type": "code",
      "execution_count": 12,
      "metadata": {
        "id": "pelExMeHiEtP"
      },
      "outputs": [],
      "source": [
        "train_dataloader= DataLoader(train_set, batch_size=8,shuffle=True)\n",
        "test_dataloader= DataLoader(val_set, batch_size=8,shuffle=True)"
      ]
    },
    {
      "cell_type": "markdown",
      "metadata": {
        "id": "2sfE87Kbutl5"
      },
      "source": [
        "## Création et implémentation de MIDI-VAE\n",
        "Le découpage est le suivant:\n",
        "- Liste des paramètres ;\n",
        "- Détail des différents composants de l'autoencodeur MIDI-VAE ;\n",
        "- Fonction de perte du modèle ;\n",
        "- Fonction d'entrainement ;\n",
        "- Représentation des résultats."
      ]
    },
    {
      "cell_type": "markdown",
      "source": [
        "### Liste des paramètres\n",
        "\n",
        "Les paramètres utilisés sont les suivants:\n",
        "\n",
        "- `CHECKPOINT_PATH`: L'entraînement du modèle prend du temps. Brunner et al. (2019) décrivent 400 epochs sur 48h pour un modèle qui converge. Pour cela un système de checkpoint a été mis en place pour sauver l'état et pouvoir reprendre, plus tard, en cas de déconnexion du service de calcul.\n",
        "\n",
        "- `LATENT_DIMENSION`: La dimension de l'espace latent a été réduite à 32. Brunner et al. (2019) ont utilisé un espace latent d'une dimension 256. Cependant, le nombre de paramètres, au sein du modèle, engendrés par une telle dimension, donnait un modèle trop gourmand en espace de stockage. Le modèle intermédiaire d'entrainement n'aurait pas pu être stocké via le service GitHub.\n",
        "\n",
        "- Les valeurs des hyperparamètres de la fonction de perte suivent les recommandations l'article de Brunner et al. (2019):\n",
        " - `LAMBDA_PITCH` = 1\n",
        " - `LAMBDA_INSTR` = 1\n",
        " - `LAMBDA_VELO` = 0.1\n",
        " - `LAMBDA_STYLE` = 0.1\n",
        " - `BETA_DKL` = 0.1\n",
        "\n",
        "- `STD_PARAM_TRICK` : Une particularité décrite dans l'article est l'utilisation d'une variance $\\sigma_\\epsilon$ d'une valeur de 0.01 sur la loi normale utilisée dans le *reparametrization trick*."
      ],
      "metadata": {
        "id": "r5js9OChar4q"
      }
    },
    {
      "cell_type": "code",
      "source": [
        "#@title ####Formulaire de configuration { form-width: \"40%\" }\n",
        "\n",
        "CHECKPOINT_PATH=\"/content/checkpoint.pt\" #@param\n",
        "LATENT_DIMENSION=32 #@param\n",
        "LAMBDA_PITCH = 1 #@param\n",
        "LAMBDA_INSTR = 1 #@param\n",
        "LAMBDA_VELO = 0.1 #@param\n",
        "LAMBDA_STYLE = 0.1 #@param\n",
        "BETA_DKL = 0.1 #@param\n",
        "STD_PARAM_TRICK = 0.01 #@param"
      ],
      "metadata": {
        "id": "bGm2dVlcgWrn",
        "cellView": "form"
      },
      "execution_count": 13,
      "outputs": []
    },
    {
      "cell_type": "markdown",
      "source": [
        "### Encodeur\n",
        "\n",
        "L'encodeur est composé de trois branches de type GRU en entrée pour gérer :\n",
        "- *Pitch roll* (GRU 2 couches cachées) ;\n",
        "- *Instrument roll* (GRU 1 couche cachée) ;\n",
        "- et *Velocity roll* (GRU 1 couche cachée) ;\n",
        "- Chacune des branches produit des sorties sur lesquelles une activation `tanh()` est appliquée. L'article spécifie un meilleur retour d'expérience, avec cette fonction d'activation, plutôt qu'une `sigmoid()`, pour linéariser les sorties ;\n",
        "- La dimension en sortie de chacune des 3 branches (*Pitch roll*, *Instrument roll* et *Velocity roll*) correspond à une dimension proportionnelle à la taille de l'espace latent. Les proportions ont été décidé arbitrairement en estimant l'importance des vecteurs applatis:\n",
        " - *Pitch roll* 23 sur 32 ;\n",
        " - *Instrument roll* 1 sur 32 ;\n",
        " - et *Velocity roll* 8 sur 32.\n",
        "\n",
        "Les sorties des 3 branches sont ensuites regroupées en un seul vecteur. A partir de ce vecteur trois sorties sont produites:\n",
        "- Le résultat groupé (ce vecteur sera utilisé par la couche de classification `StyleClassifier`) ;\n",
        "- Et deux sorties $\\mu$ et $\\sigma$ représentant la loi normale de l'espace latent à respecter dans le VAE."
      ],
      "metadata": {
        "id": "ezsvsuLZhCas"
      }
    },
    {
      "cell_type": "code",
      "source": [
        "#@title ####Classes de l'encodeur\n",
        "\n",
        "class EncoderLayer(nn.Module):\n",
        "  def __init__(self,input_roll_size,hidden,num_layers,out_features,batch_first=True):\n",
        "    super(EncoderLayer,self).__init__()\n",
        "    self.gru_layer_1=nn.GRU(input_size=input_roll_size,hidden_size=hidden,num_layers=num_layers,batch_first=batch_first)\n",
        "    self.dense=nn.Linear(in_features=hidden, out_features=out_features)\n",
        "  def forward(self, x):\n",
        "    res,_ = self.gru_layer_1(x)\n",
        "    res = F.tanh(self.dense(res)) #comme conseillé dans le papier tanh est appliqué pour linéariser les sorties\n",
        "    return res\n",
        "\n",
        "class Encoders(nn.Module):\n",
        "  def __init__(self,latent_dimension=LATENT_DIMENSION,\n",
        "               pitch_roll_size=SONG_MAX_LENGTH*PITCH_EXPECTED_SHAPE[0]*PITCH_EXPECTED_SHAPE[1],\n",
        "               intrument_roll_size=INST_EXPECTED_SHAPE[0]*INST_EXPECTED_SHAPE[1],\n",
        "               velocity_roll_size=SONG_MAX_LENGTH*PITCH_EXPECTED_SHAPE[0]):\n",
        "    super(Encoders,self).__init__()\n",
        "    assert(latent_dimension%32==0)\n",
        "    self.latent_dimension=latent_dimension\n",
        "\n",
        "    self.pitch_encoder= EncoderLayer(input_roll_size=pitch_roll_size,hidden=int((self.latent_dimension/32)*23),num_layers=2,out_features=int((self.latent_dimension/32)*23))\n",
        "    self.instrument_encoder= EncoderLayer(input_roll_size=intrument_roll_size,hidden=int(self.latent_dimension/32),num_layers=1,out_features=int(self.latent_dimension/32))\n",
        "    self.velocity_encoder= EncoderLayer(input_roll_size=velocity_roll_size,hidden=int((self.latent_dimension/32)*8),num_layers=1,out_features=int((self.latent_dimension/32)*8))\n",
        "    self.group_layers=nn.Linear(in_features=self.latent_dimension, out_features=self.latent_dimension)\n",
        "    self.lin_mu=nn.Linear(in_features=self.latent_dimension, out_features=self.latent_dimension)\n",
        "    self.lin_sigma=nn.Linear(in_features=self.latent_dimension, out_features=self.latent_dimension)\n",
        "\n",
        "  def forward(self, pitch_roll, instrument_roll, velocity_roll):\n",
        "    pitch = self.pitch_encoder(pitch_roll)\n",
        "    inst = self.instrument_encoder(instrument_roll)\n",
        "    velo = self.velocity_encoder(velocity_roll)\n",
        "    group = torch.cat([pitch, inst, velo], dim=1)\n",
        "    group = self.group_layers(group)\n",
        "    lin_mu = self.lin_mu(group)\n",
        "    lin_sigma = self.lin_mu(group)\n",
        "    return lin_mu,lin_sigma, group\n"
      ],
      "metadata": {
        "cellView": "form",
        "id": "-_-6-6_1OyWf"
      },
      "execution_count": 14,
      "outputs": []
    },
    {
      "cell_type": "markdown",
      "source": [
        "### Décodeur\n",
        "\n",
        "L'opération du décodeur est inverse à celle de l'encodeur.\n",
        "\n",
        "Le vecteur d'entrée est l'association de l'espace latent et du vecteur de classe. Cette entrée passe par une couche complétement connectée pour reformater à la taille de l'espace latent.\n",
        "\n",
        "Ceci est ensuite divisé en trois branches: spécialisées dans la reconstruction des *rolls*. La sortie produite respecte la taille d'origine des données entrées dans l'encodeur. Les trois branches, utilisant des couches de type GRU, sont en mirroir des branches utilisées dans l'encodeur:\n",
        "* *Pitch roll* (GRU 2 couches cachées),\n",
        "* *Instrument roll* (GRU 1 couche cachée),\n",
        "* et *Velocity roll* (GRU 1 couche cachée)."
      ],
      "metadata": {
        "id": "L-6whiTRkvQy"
      }
    },
    {
      "cell_type": "code",
      "source": [
        "#@title ####Classe du décodeur\n",
        "class DecoderLayer(nn.Module):\n",
        "  def __init__(self,input_dense,num_layers,output_roll_size,batch_first=True):\n",
        "    super(DecoderLayer,self).__init__()\n",
        "    self.dense=nn.Linear(in_features=input_dense, out_features=input_dense)\n",
        "    self.gru_layer_1=nn.GRU(input_size=input_dense,hidden_size=input_dense,num_layers=num_layers,batch_first=batch_first)\n",
        "    self.exit_layer=nn.Linear(in_features=input_dense, out_features=output_roll_size)\n",
        "  def forward(self, x):\n",
        "    res = F.tanh(self.dense(x))\n",
        "    res,_ = self.gru_layer_1(res)\n",
        "    res = F.tanh(self.exit_layer(res))\n",
        "    return res\n",
        "\n",
        "\n",
        "class Decoders(nn.Module):\n",
        "  def __init__(self,latent_dimension=LATENT_DIMENSION,\n",
        "               class_dim=len(LABELS_CLASSES),\n",
        "               pitch_roll_size=SONG_MAX_LENGTH*PITCH_EXPECTED_SHAPE[0]*PITCH_EXPECTED_SHAPE[1],\n",
        "               intrument_roll_size=INST_EXPECTED_SHAPE[0]*INST_EXPECTED_SHAPE[1],\n",
        "               velocity_roll_size=SONG_MAX_LENGTH*PITCH_EXPECTED_SHAPE[0]):\n",
        "    super(Decoders,self).__init__()\n",
        "    self.latent_dimension=latent_dimension\n",
        "    self.in_features=latent_dimension+class_dim\n",
        "    self.dec_lin=nn.Linear(in_features=self.in_features,out_features=int(self.latent_dimension))\n",
        "    self.pitch_dec=DecoderLayer(input_dense=int((self.latent_dimension/32)*23),num_layers=2,output_roll_size=pitch_roll_size)\n",
        "    self.instrument_dec=DecoderLayer(input_dense=int(self.latent_dimension/32),num_layers=1,output_roll_size=intrument_roll_size)\n",
        "    self.velocity_dec=DecoderLayer(input_dense=int((self.latent_dimension/32)*8),num_layers=1,output_roll_size=velocity_roll_size)\n",
        "\n",
        "  def forward(self,latent_vector,target_class):\n",
        "    latent_vector=torch.cat((latent_vector,target_class),1)\n",
        "    latent_vector = F.tanh(self.dec_lin(latent_vector))\n",
        "    ungroup_pitch, ungroup_instrument, ungroup_velocity = torch.split(\n",
        "        latent_vector,[int((self.latent_dimension/32)*23),\n",
        "        int(self.latent_dimension/32),\n",
        "        int((self.latent_dimension/32)*8)], dim=1)\n",
        "    pitch_pred=self.pitch_dec(ungroup_pitch)\n",
        "    instrument_pred=self.instrument_dec(ungroup_instrument)\n",
        "    velocity_pred = self.velocity_dec(ungroup_velocity)\n",
        "    return pitch_pred,instrument_pred,velocity_pred\n"
      ],
      "metadata": {
        "cellView": "form",
        "id": "ZqpAv8zsPEjc"
      },
      "execution_count": 15,
      "outputs": []
    },
    {
      "cell_type": "markdown",
      "source": [
        "### Classifieur de style\n",
        "\n",
        "Un classifieur de style, utilise la sortie de l'espace latent pour produire un vecteur logit, de classement probabiliste, sur lequel une fonction softmax est appliquée."
      ],
      "metadata": {
        "id": "P5oAfRj0o8Az"
      }
    },
    {
      "cell_type": "code",
      "source": [
        "#@title ####Classe du classifieur de style\n",
        "\n",
        "class StyleClassifier(nn.Module):\n",
        "  #def __init__(self, input=256, number_of_style=2):\n",
        "  def __init__(self, input=LATENT_DIMENSION, number_of_style=len(LABELS_CLASSES)):\n",
        "    super(StyleClassifier,self).__init__()\n",
        "    self.lin=nn.Linear(in_features=input,out_features=number_of_style)\n",
        "\n",
        "  def forward(self,x):\n",
        "    return F.softmax(self.lin(x),dim=1)"
      ],
      "metadata": {
        "cellView": "form",
        "id": "I6wyicuaRWcp"
      },
      "execution_count": 16,
      "outputs": []
    },
    {
      "cell_type": "markdown",
      "source": [
        "### Auto-encodeur variationnel\n",
        "\n",
        "Les couches expliquées précédement sont associées:\n",
        "- La couche encodeur est en entrée et produit 3 sorties:\n",
        " - Vecteur non modifié ;\n",
        "   - Celui-ci est utilisé par la couche de classification de style ;\n",
        " - Vecteur moyenne ;\n",
        " - Vecteur variance.\n",
        "- Les vecteurs de moyenne et de variance de cette couche encodeur sont passés dans la fonction `latent_sample()`, reprise du TP8, permettant l'application du *parametrization trick*. Le résultat de cette transformation est envoyé dans le décodeur (avec le vecteur obtenu par la couche de classification de style). Le décodeur produit une reconstruction des trois *rolls*."
      ],
      "metadata": {
        "id": "qfl47vuXsWiV"
      }
    },
    {
      "cell_type": "code",
      "source": [
        "#@title ####Classe auto-encodeur variationnel\n",
        "\n",
        "class VariationalAutocencoder(nn.Module):\n",
        "  def __init__(self, latent_dimension=LATENT_DIMENSION, std_param_trick=1):\n",
        "    super(VariationalAutocencoder,self).__init__()\n",
        "    self.latent_dimension=latent_dimension\n",
        "    self.std_param_trick=std_param_trick\n",
        "    self.enc=Encoders()\n",
        "    self.style_classifier = StyleClassifier()\n",
        "    self.dec=Decoders()\n",
        "  def forward(self, pitch_roll, instrument_roll, velocity_roll, song_class):\n",
        "    latent_mu, latent_logvar, raw_result = self.enc(pitch_roll, instrument_roll, velocity_roll)\n",
        "    style_pred = self.style_classifier(raw_result)\n",
        "    pitch_pred, intrument_pred, velocity_pred = self.dec(self.latent_sample(latent_mu,latent_logvar),song_class)\n",
        "    return pitch_pred, intrument_pred, velocity_pred, style_pred, latent_mu, latent_logvar\n",
        "\n",
        "  def latent_sample(self, mu, logvar): #repris du TP8_CVAE_PixelCNN\n",
        "    if self.training:\n",
        "      std = logvar.mul(0.5).exp_()*self.std_param_trick\n",
        "      eps = torch.empty_like(std).normal_()\n",
        "      return eps.mul(std).add_(mu)\n",
        "    else:\n",
        "      return mu"
      ],
      "metadata": {
        "cellView": "form",
        "id": "EUHz1XRWRrIK"
      },
      "execution_count": 17,
      "outputs": []
    },
    {
      "cell_type": "markdown",
      "source": [
        "### Fonction de perte\n",
        "\n",
        "Un fonction de perte, `midivae_loss()`, similaire à celle décrite dans l'article est utlisée : $\\mathcal{L}_{tot}=\\lambda_{p}H(P,\\hat{P}) + \\lambda_{i}H(I,\\hat{I})+\\lambda_{v}ME(V,\\hat{V})+\\lambda_{s}H(S,\\hat{S})-\\beta D_{KL}(q||p) $\n",
        "\n",
        "Avec: $H(\\cdot,\\cdot)$, $MSE(\\cdot,\\cdot)$, et $D_{KL}(\\cdot,\\cdot)$ réprésentant respectivement: L'entropie croisée, l'erreur quadratique moyenne, et la divergence de KL.\n",
        "\n",
        "Les poids $\\lambda_{p}$, $\\lambda_{i}$, $\\lambda_{v}$, $\\lambda_{s}$, $\\beta$, correspondent aux poids des hyperparamètres listés précédement, pondérant les pertes: du *pitch*, d'*instrument*, de *velocity*, du style, et la divergence entre l'espace latent et la loi normale $\\mathcal{N}(\\mu,\\sigma)$."
      ],
      "metadata": {
        "id": "8jmqnHk4vgnu"
      }
    },
    {
      "cell_type": "code",
      "source": [
        "#@title ####Fonction midivae_loss\n",
        "\n",
        "def midivae_loss(lambda_pitch, pred_pitch, target_pitch,\n",
        "                 lambda_instr, pred_instr, target_instr,\n",
        "                 lambda_velo, pred_velo, target_velo,\n",
        "                 lambda_style, pred_style, target_style,\n",
        "                 beta_dkl, mu ,logvar):\n",
        "  pitch_loss = F.cross_entropy(pred_pitch,target_pitch)\n",
        "  instr_loss = F.cross_entropy(pred_instr,target_instr)\n",
        "  velo_loss = F.mse_loss(pred_velo,target_velo)\n",
        "  style_loss = F.binary_cross_entropy_with_logits(pred_style, target_style.float())\n",
        "  kl_divergence = -0.5 * torch.sum(1 + logvar - mu.pow(2) - logvar.exp()) #repris du TP8\n",
        "  total_loss = lambda_pitch*pitch_loss + lambda_instr*instr_loss + lambda_velo*velo_loss + lambda_style*style_loss + beta_dkl*kl_divergence\n",
        "  return total_loss, pitch_loss, instr_loss, velo_loss, style_loss, kl_divergence"
      ],
      "metadata": {
        "cellView": "form",
        "id": "jonE-qTUR2s0"
      },
      "execution_count": 18,
      "outputs": []
    },
    {
      "cell_type": "markdown",
      "source": [
        "###Entrainement du modèle\n",
        "\n",
        "L'entrainement du modèle utilise une suite d'instructions proche de celles utilisées dans les différents TP. Avec la particularité du checkpoint pour reprendre de l'état pré-entrainé enregistré après chaque epoch.\n",
        "\n",
        "La valeur 88 du paramètre `epochs` passée dans l'utilisation de la fonction d'entrainement `vaemidi_trainer`, sert à limiter l'exécution de l'apprentissage à une *epoch* à partir de l'état du modèle récupéré via le fichier `checkpoint.pt` représentatif des 87 entraînements précédents."
      ],
      "metadata": {
        "id": "cW-N8Mxr2ne3"
      }
    },
    {
      "cell_type": "code",
      "source": [
        "#@title ####Fonction vaemidi_trainer\n",
        "\n",
        "def vaemidi_trainer(vae, train_dataset, epochs=10, learning_rate=1e-3, batch_size=128, device=device, checkpoint_path=CHECKPOINT_PATH):\n",
        "  weight_decay = 1e-5\n",
        "  train_dataloader = DataLoader(train_dataset, batch_size=batch_size, shuffle=True)\n",
        "\n",
        "  avg_pitch_loss_log, avg_instr_loss_log, avg_velo_loss_log, avg_style_loss_log, avg_total_loss_log, epoch=[],[],[],[],[], None\n",
        "\n",
        "  optimizer = torch.optim.Adam(params=vae.parameters(),lr=learning_rate,weight_decay=weight_decay)\n",
        "  vae=vae.to(device)\n",
        "  if os.path.exists(checkpoint_path):\n",
        "    map_location=torch.device('cpu') if torch.cuda.is_available() is False else torch.device('cuda')\n",
        "    checkpoint = torch.load(checkpoint_path, map_location=map_location)\n",
        "    vae.load_state_dict(checkpoint['model_state_dict'])\n",
        "    epoch = checkpoint['epoch']\n",
        "    avg_pitch_loss_log, avg_instr_loss_log, avg_velo_loss_log, avg_style_loss_log, avg_total_loss_log = checkpoint['avg_pitch_loss_log'], checkpoint['avg_instr_loss_log'], checkpoint['avg_velo_loss_log'], checkpoint['avg_style_loss_log'], checkpoint['avg_total_loss_log']\n",
        "\n",
        "  vae.train()\n",
        "  t = trange(0 if epoch is None else epoch, epochs + 1, desc=\"Entraînement du modèle\")\n",
        "\n",
        "\n",
        "  for epoch in t:\n",
        "    avg_total_loss, avg_pitch_loss, avg_instr_loss, avg_velo_loss, avg_style_loss = 0, 0, 0, 0, 0\n",
        "    for i,  (pitch_target, instr_target, velo_target, midi_label, midi_filename) in enumerate(train_dataloader):\n",
        "      pitch_target=pitch_target.type(torch.float32).to(device)\n",
        "      instr_target=instr_target.type(torch.float32).to(device)\n",
        "      velo_target=velo_target.type(torch.float32).to(device)\n",
        "      labels = F.one_hot(midi_label.long(), num_classes=2).to(device)\n",
        "      pitch_pred, intrument_pred, velocity_pred, style_pred, latent_mu,latent_logvar=vae(pitch_target,instr_target,velo_target,labels)\n",
        "\n",
        "\n",
        "      #calcul de la perte\n",
        "      total_loss, pitch_loss, instr_loss, velo_loss, style_loss, kl_divergence = midivae_loss(\n",
        "          LAMBDA_PITCH,pitch_pred,pitch_target,LAMBDA_INSTR,intrument_pred,instr_target,LAMBDA_VELO,velocity_pred,velo_target,LAMBDA_STYLE,style_pred,labels,BETA_DKL,latent_mu,latent_logvar)\n",
        "\n",
        "      #retropropagation du gradient\n",
        "      optimizer.zero_grad() #met les gradient des tenseur à optimiser à 0\n",
        "      total_loss.backward() #\n",
        "      optimizer.step() #\n",
        "\n",
        "      avg_pitch_loss += pitch_loss.item()\n",
        "      avg_instr_loss += instr_loss.item()\n",
        "      avg_velo_loss += velo_loss.item()\n",
        "      avg_style_loss += style_loss.item()\n",
        "      avg_total_loss += total_loss.item()\n",
        "\n",
        "    avg_pitch_loss /= len(train_dataloader)\n",
        "    avg_instr_loss /= len(train_dataloader)\n",
        "    avg_velo_loss /= len(train_dataloader)\n",
        "    avg_style_loss /= len(train_dataloader)\n",
        "    avg_total_loss /= len(train_dataloader)\n",
        "\n",
        "    t.set_description(f\"Epoch {epoch}: total loss = {avg_total_loss:.2f} ; pitch loss = {avg_pitch_loss:.2f} ; instrument loss = {avg_instr_loss:.2f} ; velocity loss = {avg_velo_loss:.2f} ; style loss = {avg_style_loss:.2f}\")\n",
        "\n",
        "    avg_pitch_loss_log.append(avg_pitch_loss)\n",
        "    avg_instr_loss_log.append(avg_instr_loss)\n",
        "    avg_velo_loss_log.append(avg_velo_loss)\n",
        "    avg_style_loss_log.append(avg_style_loss)\n",
        "    avg_total_loss_log.append(avg_total_loss)\n",
        "\n",
        "\n",
        "    torch.save({ #sauvegarde du dernier état\n",
        "      'epoch': epoch,\n",
        "      'model_state_dict': vae.state_dict(),\n",
        "      'avg_pitch_loss_log': avg_pitch_loss_log,'avg_instr_loss_log' : avg_instr_loss_log, 'avg_velo_loss_log':avg_velo_loss_log,'avg_style_loss_log':avg_style_loss_log, 'avg_total_loss_log':avg_total_loss_log\n",
        "    }, checkpoint_path)\n",
        "\n",
        "  return vae.to(device), avg_pitch_loss_log, avg_instr_loss_log, avg_velo_loss_log, avg_style_loss_log, avg_total_loss_log\n"
      ],
      "metadata": {
        "cellView": "form",
        "id": "oFnN_6XqSHzm"
      },
      "execution_count": 19,
      "outputs": []
    },
    {
      "cell_type": "code",
      "execution_count": 20,
      "metadata": {
        "colab": {
          "base_uri": "https://localhost:8080/",
          "height": 132,
          "referenced_widgets": [
            "7fdc9978e4844a9287b7fb0fb38e0ea0",
            "179b60cdbbd24e499565348325e1bc33",
            "378b5d21fd30499e982a6160c6ee1bb1",
            "7dd4b9eff056448aaf6b109c4050d81f",
            "7545f80f25ca4008a724175558399050",
            "1dc41d8f118644d89178a08a3f5e19c0",
            "1b852bc660a842b3b89d125fb6bd3a06",
            "dae029ec5f394ab88c80b1ec55a141b5",
            "80abb364c113433dad9be95236121133",
            "5b4143789b2e4e4787ab6cd25ac0215d",
            "60968975d1bd44158ea360d2f9b0b545"
          ]
        },
        "id": "x9PC8zc-fMj3",
        "outputId": "7b4e838e-07fc-4269-f97e-3056fd63f805"
      },
      "outputs": [
        {
          "output_type": "display_data",
          "data": {
            "text/plain": [
              "Entraînement du modèle:   0%|          | 0/1 [00:00<?, ?it/s]"
            ],
            "application/vnd.jupyter.widget-view+json": {
              "version_major": 2,
              "version_minor": 0,
              "model_id": "7fdc9978e4844a9287b7fb0fb38e0ea0"
            }
          },
          "metadata": {}
        },
        {
          "output_type": "stream",
          "name": "stderr",
          "text": [
            "/usr/local/lib/python3.10/dist-packages/pretty_midi/pretty_midi.py:100: RuntimeWarning: Tempo, Key or Time signature change events found on non-zero tracks.  This is not a valid type 0 or type 1 MIDI file.  Tempo, Key or Time Signature may be wrong.\n",
            "  warnings.warn(\n"
          ]
        }
      ],
      "source": [
        "####Entrainement du modèle\n",
        "vae = VariationalAutocencoder(std_param_trick=STD_PARAM_TRICK)\n",
        "vae, avg_pitch_loss_log, avg_instr_loss_log, avg_velo_loss_log, avg_style_loss_log, avg_total_loss_log = vaemidi_trainer(vae,train_set, epochs=88,batch_size=128)"
      ]
    },
    {
      "cell_type": "markdown",
      "source": [
        "### Représentation des résultats\n",
        "\n",
        "- Sur les coubes de l'evolution de la perte lors de l'entraînenemnt, on constate que le modèle ne converge pas.\n",
        "- Sur le calcul de précision moyen, les résultats reflètent l'inefficacité du modèle.\n",
        "\n",
        "\n",
        "\n"
      ],
      "metadata": {
        "id": "pLKz4K5HANSc"
      }
    },
    {
      "cell_type": "code",
      "source": [
        "#@title ####Courbes d'évolution de la perte lors de l'entrainement\n",
        "\n",
        "\n",
        "plt.figure(figsize=(20, 20))\n",
        "\n",
        "#x = np.linspace(0, 2 * np.pi, len(avg_pitch_loss_log))\n",
        "x = range(len(avg_pitch_loss_log))\n",
        "\n",
        "\n",
        "fig, axs = plt.subplots(2, 2,constrained_layout = True)\n",
        "axs[0, 0].plot(x, avg_pitch_loss_log, label=\"Pitch loss\")\n",
        "axs[0, 0].set_ylim(min(avg_pitch_loss_log)*0.95,max(avg_pitch_loss_log)*1.05)\n",
        "axs[0, 0].set_ylabel('Pitch loss')\n",
        "axs[0, 1].plot(x, avg_instr_loss_log, 'tab:orange', label=\"Instrument loss\")\n",
        "axs[0, 1].set_ylim(min(avg_instr_loss_log)*0.95,max(avg_instr_loss_log)*1.05)\n",
        "axs[0, 1].set_ylabel('Instrument loss')\n",
        "axs[1, 0].plot(x, avg_velo_loss_log, 'tab:green', label=\"Velocity loss\")\n",
        "axs[1, 0].set_ylim(min(avg_velo_loss_log)*0.95,max(avg_velo_loss_log)*1.05)\n",
        "axs[1, 0].set_ylabel('Velocity loss')\n",
        "axs[1, 1].plot(x, avg_style_loss_log, 'tab:red', label=\"Style loss\")\n",
        "axs[1, 1].set_ylim(min(avg_style_loss_log)*0.95,max(avg_style_loss_log)*1.05)\n",
        "axs[1, 1].set_ylabel('Style loss')\n",
        "\n",
        "for ax in axs.flat:\n",
        "    ax.set(xlabel='Epoch')\n",
        "    ax.xaxis.set_major_locator(MaxNLocator(integer=True))\n",
        "\n",
        "plt.suptitle('Valeur de la loss par epoch')\n",
        "plt.show()\n"
      ],
      "metadata": {
        "colab": {
          "base_uri": "https://localhost:8080/",
          "height": 525
        },
        "id": "-YdAHHEFGn9_",
        "outputId": "efbd515d-91dd-482b-ee79-7df186dc0d47",
        "cellView": "form"
      },
      "execution_count": 21,
      "outputs": [
        {
          "output_type": "display_data",
          "data": {
            "text/plain": [
              "<Figure size 2000x2000 with 0 Axes>"
            ]
          },
          "metadata": {}
        },
        {
          "output_type": "display_data",
          "data": {
            "text/plain": [
              "<Figure size 640x480 with 4 Axes>"
            ],
            "image/png": "[encoded data removed]"
          },
          "metadata": {}
        }
      ]
    },
    {
      "cell_type": "code",
      "source": [
        "#@title ####Evaluation de la précision\n",
        "def accuracy_results(vae,dataloader):\n",
        "  vae.eval()\n",
        "\n",
        "  accuracy_pitch=[]\n",
        "  accuracy_instr=[]\n",
        "  accuracy_velo=[]\n",
        "  accuracy_label=[]\n",
        "\n",
        "  binary_accuracy=BinaryAccuracy()\n",
        "  mul_class_accuracy=MulticlassAccuracy(num_classes=len(LABELS_CLASSES))\n",
        "  for i,  (pitch_target, instr_target, velo_target, midi_label, midi_filename) in enumerate(test_dataloader):\n",
        "    with torch.no_grad():\n",
        "      pitch_target=pitch_target.type(torch.float32).to(device)\n",
        "      instr_target=instr_target.type(torch.float32).to(device)\n",
        "      velo_target=velo_target.type(torch.float32).to(device)\n",
        "      labels = F.one_hot(midi_label.long(), num_classes=len(LABELS_CLASSES)).to(device)\n",
        "      pitch_pred, intrument_pred, velocity_pred, style_pred, latent_mu, latent_logvar = vae(pitch_target, instr_target, velo_target, labels)\n",
        "      accuracy_pitch.append(binary_accuracy(pitch_pred.to(\"cpu\"),pitch_target.to(\"cpu\")))\n",
        "      accuracy_instr.append(binary_accuracy(intrument_pred.to(\"cpu\"),instr_target.to(\"cpu\")))\n",
        "      accuracy_velo.append(F.mse_loss(velocity_pred.to(\"cpu\"),velo_target.to(\"cpu\")))\n",
        "      accuracy_label.append(mul_class_accuracy(style_pred.to(\"cpu\"),midi_label.to(\"cpu\")))\n",
        "  return np.array(accuracy_pitch).mean(),np.array(accuracy_instr).mean(),np.array(accuracy_velo).mean(),np.array(accuracy_label).mean()\n",
        "\n",
        "accuracy_pitch,accuracy_instr,accuracy_velo,accuracy_lab=accuracy_results(vae,train_dataloader)\n",
        "print(f\"Avec le jeu d'entrainement: moyenne reconstruction pitch={accuracy_pitch:.2f}, moyenne reconstrution instrument={accuracy_instr:.2f},moyenne reconstruction velocité={accuracy_velo:.2f},moyenne étiquetage={accuracy_lab:.2f}\")\n",
        "accuracy_pitch,accuracy_instr,accuracy_velo,accuracy_lab=accuracy_results(vae,test_dataloader)\n",
        "print(f\"Avec le jeu de validation: moyenne reconstruction pitch={accuracy_pitch:.2f}, moyenne reconstrution instrument={accuracy_instr:.2f},moyenne reconstruction velocité={accuracy_velo:.2f},moyenne étiquetage={accuracy_lab:.2f}\")"
      ],
      "metadata": {
        "colab": {
          "base_uri": "https://localhost:8080/"
        },
        "id": "fRN3iMYzGqS9",
        "outputId": "9c398eab-d7b9-461c-b937-0513b68f88ea"
      },
      "execution_count": 22,
      "outputs": [
        {
          "output_type": "stream",
          "name": "stdout",
          "text": [
            "Avec le jeu d'entrainement: moyenne reconstruction pitch=0.96, moyenne reconstrution instrument=0.79,moyenne reconstruction velocité=0.08,moyenne étiquetage=0.50\n",
            "Avec le jeu de validation: moyenne reconstruction pitch=0.96, moyenne reconstrution instrument=0.79,moyenne reconstruction velocité=0.08,moyenne étiquetage=0.50\n"
          ]
        }
      ]
    }
  ],
  "metadata": {
    "accelerator": "GPU",
    "colab": {
      "provenance": [],
      "history_visible": true,
      "include_colab_link": true
    },
    "kernelspec": {
      "display_name": "Python 3",
      "name": "python3"
    },
    "language_info": {
      "name": "python"
    },
    "widgets": {
      "application/vnd.jupyter.widget-state+json": {
        "7fdc9978e4844a9287b7fb0fb38e0ea0": {
          "model_module": "@jupyter-widgets/controls",
          "model_name": "HBoxModel",
          "model_module_version": "1.5.0",
          "state": {
            "_dom_classes": [],
            "_model_module": "@jupyter-widgets/controls",
            "_model_module_version": "1.5.0",
            "_model_name": "HBoxModel",
            "_view_count": null,
            "_view_module": "@jupyter-widgets/controls",
            "_view_module_version": "1.5.0",
            "_view_name": "HBoxView",
            "box_style": "",
            "children": [
              "IPY_MODEL_179b60cdbbd24e499565348325e1bc33",
              "IPY_MODEL_378b5d21fd30499e982a6160c6ee1bb1",
              "IPY_MODEL_7dd4b9eff056448aaf6b109c4050d81f"
            ],
            "layout": "IPY_MODEL_7545f80f25ca4008a724175558399050"
          }
        },
        "179b60cdbbd24e499565348325e1bc33": {
          "model_module": "@jupyter-widgets/controls",
          "model_name": "HTMLModel",
          "model_module_version": "1.5.0",
          "state": {
            "_dom_classes": [],
            "_model_module": "@jupyter-widgets/controls",
            "_model_module_version": "1.5.0",
            "_model_name": "HTMLModel",
            "_view_count": null,
            "_view_module": "@jupyter-widgets/controls",
            "_view_module_version": "1.5.0",
            "_view_name": "HTMLView",
            "description": "",
            "description_tooltip": null,
            "layout": "IPY_MODEL_1dc41d8f118644d89178a08a3f5e19c0",
            "placeholder": "​",
            "style": "IPY_MODEL_1b852bc660a842b3b89d125fb6bd3a06",
            "value": "Epoch 88: total loss = 6842.64 ; pitch loss = 6828.14 ; instrument loss = 14.00 ; velocity loss = 0.08 ; style loss = 0.69: 100%"
          }
        },
        "378b5d21fd30499e982a6160c6ee1bb1": {
          "model_module": "@jupyter-widgets/controls",
          "model_name": "FloatProgressModel",
          "model_module_version": "1.5.0",
          "state": {
            "_dom_classes": [],
            "_model_module": "@jupyter-widgets/controls",
            "_model_module_version": "1.5.0",
            "_model_name": "FloatProgressModel",
            "_view_count": null,
            "_view_module": "@jupyter-widgets/controls",
            "_view_module_version": "1.5.0",
            "_view_name": "ProgressView",
            "bar_style": "success",
            "description": "",
            "description_tooltip": null,
            "layout": "IPY_MODEL_dae029ec5f394ab88c80b1ec55a141b5",
            "max": 1,
            "min": 0,
            "orientation": "horizontal",
            "style": "IPY_MODEL_80abb364c113433dad9be95236121133",
            "value": 1
          }
        },
        "7dd4b9eff056448aaf6b109c4050d81f": {
          "model_module": "@jupyter-widgets/controls",
          "model_name": "HTMLModel",
          "model_module_version": "1.5.0",
          "state": {
            "_dom_classes": [],
            "_model_module": "@jupyter-widgets/controls",
            "_model_module_version": "1.5.0",
            "_model_name": "HTMLModel",
            "_view_count": null,
            "_view_module": "@jupyter-widgets/controls",
            "_view_module_version": "1.5.0",
            "_view_name": "HTMLView",
            "description": "",
            "description_tooltip": null,
            "layout": "IPY_MODEL_5b4143789b2e4e4787ab6cd25ac0215d",
            "placeholder": "​",
            "style": "IPY_MODEL_60968975d1bd44158ea360d2f9b0b545",
            "value": " 1/1 [11:57&lt;00:00, 717.84s/it]"
          }
        },
        "7545f80f25ca4008a724175558399050": {
          "model_module": "@jupyter-widgets/base",
          "model_name": "LayoutModel",
          "model_module_version": "1.2.0",
          "state": {
            "_model_module": "@jupyter-widgets/base",
            "_model_module_version": "1.2.0",
            "_model_name": "LayoutModel",
            "_view_count": null,
            "_view_module": "@jupyter-widgets/base",
            "_view_module_version": "1.2.0",
            "_view_name": "LayoutView",
            "align_content": null,
            "align_items": null,
            "align_self": null,
            "border": null,
            "bottom": null,
            "display": null,
            "flex": null,
            "flex_flow": null,
            "grid_area": null,
            "grid_auto_columns": null,
            "grid_auto_flow": null,
            "grid_auto_rows": null,
            "grid_column": null,
            "grid_gap": null,
            "grid_row": null,
            "grid_template_areas": null,
            "grid_template_columns": null,
            "grid_template_rows": null,
            "height": null,
            "justify_content": null,
            "justify_items": null,
            "left": null,
            "margin": null,
            "max_height": null,
            "max_width": null,
            "min_height": null,
            "min_width": null,
            "object_fit": null,
            "object_position": null,
            "order": null,
            "overflow": null,
            "overflow_x": null,
            "overflow_y": null,
            "padding": null,
            "right": null,
            "top": null,
            "visibility": null,
            "width": null
          }
        },
        "1dc41d8f118644d89178a08a3f5e19c0": {
          "model_module": "@jupyter-widgets/base",
          "model_name": "LayoutModel",
          "model_module_version": "1.2.0",
          "state": {
            "_model_module": "@jupyter-widgets/base",
            "_model_module_version": "1.2.0",
            "_model_name": "LayoutModel",
            "_view_count": null,
            "_view_module": "@jupyter-widgets/base",
            "_view_module_version": "1.2.0",
            "_view_name": "LayoutView",
            "align_content": null,
            "align_items": null,
            "align_self": null,
            "border": null,
            "bottom": null,
            "display": null,
            "flex": null,
            "flex_flow": null,
            "grid_area": null,
            "grid_auto_columns": null,
            "grid_auto_flow": null,
            "grid_auto_rows": null,
            "grid_column": null,
            "grid_gap": null,
            "grid_row": null,
            "grid_template_areas": null,
            "grid_template_columns": null,
            "grid_template_rows": null,
            "height": null,
            "justify_content": null,
            "justify_items": null,
            "left": null,
            "margin": null,
            "max_height": null,
            "max_width": null,
            "min_height": null,
            "min_width": null,
            "object_fit": null,
            "object_position": null,
            "order": null,
            "overflow": null,
            "overflow_x": null,
            "overflow_y": null,
            "padding": null,
            "right": null,
            "top": null,
            "visibility": null,
            "width": null
          }
        },
        "1b852bc660a842b3b89d125fb6bd3a06": {
          "model_module": "@jupyter-widgets/controls",
          "model_name": "DescriptionStyleModel",
          "model_module_version": "1.5.0",
          "state": {
            "_model_module": "@jupyter-widgets/controls",
            "_model_module_version": "1.5.0",
            "_model_name": "DescriptionStyleModel",
            "_view_count": null,
            "_view_module": "@jupyter-widgets/base",
            "_view_module_version": "1.2.0",
            "_view_name": "StyleView",
            "description_width": ""
          }
        },
        "dae029ec5f394ab88c80b1ec55a141b5": {
          "model_module": "@jupyter-widgets/base",
          "model_name": "LayoutModel",
          "model_module_version": "1.2.0",
          "state": {
            "_model_module": "@jupyter-widgets/base",
            "_model_module_version": "1.2.0",
            "_model_name": "LayoutModel",
            "_view_count": null,
            "_view_module": "@jupyter-widgets/base",
            "_view_module_version": "1.2.0",
            "_view_name": "LayoutView",
            "align_content": null,
            "align_items": null,
            "align_self": null,
            "border": null,
            "bottom": null,
            "display": null,
            "flex": null,
            "flex_flow": null,
            "grid_area": null,
            "grid_auto_columns": null,
            "grid_auto_flow": null,
            "grid_auto_rows": null,
            "grid_column": null,
            "grid_gap": null,
            "grid_row": null,
            "grid_template_areas": null,
            "grid_template_columns": null,
            "grid_template_rows": null,
            "height": null,
            "justify_content": null,
            "justify_items": null,
            "left": null,
            "margin": null,
            "max_height": null,
            "max_width": null,
            "min_height": null,
            "min_width": null,
            "object_fit": null,
            "object_position": null,
            "order": null,
            "overflow": null,
            "overflow_x": null,
            "overflow_y": null,
            "padding": null,
            "right": null,
            "top": null,
            "visibility": null,
            "width": null
          }
        },
        "80abb364c113433dad9be95236121133": {
          "model_module": "@jupyter-widgets/controls",
          "model_name": "ProgressStyleModel",
          "model_module_version": "1.5.0",
          "state": {
            "_model_module": "@jupyter-widgets/controls",
            "_model_module_version": "1.5.0",
            "_model_name": "ProgressStyleModel",
            "_view_count": null,
            "_view_module": "@jupyter-widgets/base",
            "_view_module_version": "1.2.0",
            "_view_name": "StyleView",
            "bar_color": null,
            "description_width": ""
          }
        },
        "5b4143789b2e4e4787ab6cd25ac0215d": {
          "model_module": "@jupyter-widgets/base",
          "model_name": "LayoutModel",
          "model_module_version": "1.2.0",
          "state": {
            "_model_module": "@jupyter-widgets/base",
            "_model_module_version": "1.2.0",
            "_model_name": "LayoutModel",
            "_view_count": null,
            "_view_module": "@jupyter-widgets/base",
            "_view_module_version": "1.2.0",
            "_view_name": "LayoutView",
            "align_content": null,
            "align_items": null,
            "align_self": null,
            "border": null,
            "bottom": null,
            "display": null,
            "flex": null,
            "flex_flow": null,
            "grid_area": null,
            "grid_auto_columns": null,
            "grid_auto_flow": null,
            "grid_auto_rows": null,
            "grid_column": null,
            "grid_gap": null,
            "grid_row": null,
            "grid_template_areas": null,
            "grid_template_columns": null,
            "grid_template_rows": null,
            "height": null,
            "justify_content": null,
            "justify_items": null,
            "left": null,
            "margin": null,
            "max_height": null,
            "max_width": null,
            "min_height": null,
            "min_width": null,
            "object_fit": null,
            "object_position": null,
            "order": null,
            "overflow": null,
            "overflow_x": null,
            "overflow_y": null,
            "padding": null,
            "right": null,
            "top": null,
            "visibility": null,
            "width": null
          }
        },
        "60968975d1bd44158ea360d2f9b0b545": {
          "model_module": "@jupyter-widgets/controls",
          "model_name": "DescriptionStyleModel",
          "model_module_version": "1.5.0",
          "state": {
            "_model_module": "@jupyter-widgets/controls",
            "_model_module_version": "1.5.0",
            "_model_name": "DescriptionStyleModel",
            "_view_count": null,
            "_view_module": "@jupyter-widgets/base",
            "_view_module_version": "1.2.0",
            "_view_name": "StyleView",
            "description_width": ""
          }
        }
      }
    }
  },
  "nbformat": 4,
  "nbformat_minor": 0
}